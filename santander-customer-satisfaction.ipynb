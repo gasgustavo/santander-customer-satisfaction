{
 "cells": [
  {
   "cell_type": "code",
   "execution_count": 1,
   "metadata": {},
   "outputs": [],
   "source": [
    "# pip install imbalanced-learn"
   ]
  },
  {
   "cell_type": "code",
   "execution_count": 2,
   "metadata": {},
   "outputs": [],
   "source": [
    "from tqdm.notebook import tqdm\n",
    "import matplotlib\n",
    "import pandas as pd\n",
    "import numpy as np\n",
    "import os\n",
    "\n",
    "from sklearn.decomposition import PCA\n",
    "from sklearn.model_selection import train_test_split\n",
    "from imblearn.over_sampling import SMOTE\n",
    "from sklearn.model_selection import cross_val_score\n",
    "from sklearn.model_selection import RepeatedStratifiedKFold\n",
    "from sklearn.model_selection import GridSearchCV\n",
    "from sklearn.metrics import roc_auc_score\n",
    "\n",
    "# from sklearn.model_selection import train_test_split\n",
    "from sklearn.metrics import confusion_matrix\n",
    "from sklearn.ensemble import RandomForestClassifier\n",
    "from xgboost import XGBClassifier\n",
    "from sklearn.preprocessing import MinMaxScaler, Normalizer\n",
    "\n",
    "%matplotlib inline\n",
    "np.random.seed(42)"
   ]
  },
  {
   "cell_type": "code",
   "execution_count": 3,
   "metadata": {},
   "outputs": [],
   "source": [
    "PATH = 'santander-customer-satisfaction'\n",
    "TRAIN_FILE = 'train.csv'\n",
    "TEST_FILE = 'test.csv'\n",
    "label_column = 'TARGET'"
   ]
  },
  {
   "cell_type": "code",
   "execution_count": 4,
   "metadata": {},
   "outputs": [],
   "source": [
    "df_train_completo = pd.read_csv('/'.join([PATH, TRAIN_FILE]))\n",
    "df_train = df_train_completo.copy()"
   ]
  },
  {
   "cell_type": "code",
   "execution_count": 5,
   "metadata": {},
   "outputs": [
    {
     "data": {
      "image/png": "[encoded data removed]",
      "text/plain": [
       "<Figure size 432x288 with 1 Axes>"
      ]
     },
     "metadata": {
      "needs_background": "light"
     },
     "output_type": "display_data"
    }
   ],
   "source": [
    "(df_train.TARGET.value_counts()/len(df_train)*100).plot.bar();"
   ]
  },
  {
   "cell_type": "markdown",
   "metadata": {},
   "source": [
    "# Pré-processamento\n",
    "## Tranformacoes de Variaveis"
   ]
  },
  {
   "cell_type": "code",
   "execution_count": 6,
   "metadata": {},
   "outputs": [
    {
     "name": "stdout",
     "output_type": "stream",
     "text": [
      "371\n"
     ]
    },
    {
     "data": {
      "application/vnd.jupyter.widget-view+json": {
       "model_id": "00f8382a4eff4b5f9992ed030742a5ff",
       "version_major": 2,
       "version_minor": 0
      },
      "text/plain": [
       "HBox(children=(FloatProgress(value=0.0, max=371.0), HTML(value='')))"
      ]
     },
     "metadata": {},
     "output_type": "display_data"
    },
    {
     "name": "stdout",
     "output_type": "stream",
     "text": [
      "\n",
      "337\n"
     ]
    }
   ],
   "source": [
    "# Elimina features com apenas um valor\n",
    "print(len(df_train.columns))\n",
    "for coluna in tqdm(df_train.columns) :\n",
    "    if len(df_train[coluna].unique()) == 1:\n",
    "        del(df_train[coluna])\n",
    "print(len(df_train.columns))\n",
    "\n",
    "# Elimina coluna ID\n",
    "del(df_train['ID'])"
   ]
  },
  {
   "cell_type": "markdown",
   "metadata": {},
   "source": [
    "## Normalizacao de dados"
   ]
  },
  {
   "cell_type": "code",
   "execution_count": 7,
   "metadata": {},
   "outputs": [
    {
     "data": {
      "application/vnd.jupyter.widget-view+json": {
       "model_id": "c2674ea441c544f18517c0ba46749378",
       "version_major": 2,
       "version_minor": 0
      },
      "text/plain": [
       "HBox(children=(FloatProgress(value=0.0, max=336.0), HTML(value='')))"
      ]
     },
     "metadata": {},
     "output_type": "display_data"
    },
    {
     "name": "stdout",
     "output_type": "stream",
     "text": [
      "\n"
     ]
    },
    {
     "data": {
      "application/vnd.jupyter.widget-view+json": {
       "model_id": "b7cb999f22794f96b929c1eeb76b24ba",
       "version_major": 2,
       "version_minor": 0
      },
      "text/plain": [
       "HBox(children=(FloatProgress(value=0.0, max=105.0), HTML(value='')))"
      ]
     },
     "metadata": {},
     "output_type": "display_data"
    },
    {
     "name": "stdout",
     "output_type": "stream",
     "text": [
      "\n"
     ]
    }
   ],
   "source": [
    "# Normalizamos features binarias para 0 ou 1\n",
    "def transforma_colunas_binarias(df):\n",
    "    for (coluna,um_dos_valores) in tqdm(LISTA_TRANSFORMACAO_EM_BINARIO):\n",
    "        df.loc[:,coluna] = df[coluna].apply(lambda x: 1 if x==um_dos_valores else 0)\n",
    "    return df\n",
    "\n",
    "LISTA_TRANSFORMACAO_EM_BINARIO = []\n",
    "for coluna in tqdm(df_train.columns) :\n",
    "    valores_possiveis = df_train[coluna].unique()\n",
    "    if (len(valores_possiveis) ==2) and coluna != 'TARGET':\n",
    "        LISTA_TRANSFORMACAO_EM_BINARIO.append((coluna, valores_possiveis[0])) \n",
    "        \n",
    "df_train = transforma_colunas_binarias(df_train)"
   ]
  },
  {
   "cell_type": "code",
   "execution_count": 8,
   "metadata": {},
   "outputs": [
    {
     "name": "stdout",
     "output_type": "stream",
     "text": [
      "Normalizando os dados\n"
     ]
    }
   ],
   "source": [
    "# Normalizacao dos features quantitativas\n",
    "COLUNAS_UTILIZADAS = list(df_train.columns)\n",
    "colunas_features = [i for i in COLUNAS_UTILIZADAS if i!= label_column]\n",
    "COLUNAS_QUANTITATIVAS = list(set(colunas_features) - set([i[0] for i in LISTA_TRANSFORMACAO_EM_BINARIO]))\n",
    "\n",
    "print('Normalizando os dados')\n",
    "scaler = Normalizer()\n",
    "df_train.loc[:,COLUNAS_QUANTITATIVAS] = scaler.fit_transform(df_train.loc[:,COLUNAS_QUANTITATIVAS])"
   ]
  },
  {
   "cell_type": "markdown",
   "metadata": {},
   "source": [
    "## Selecao de features mais relevantes "
   ]
  },
  {
   "cell_type": "code",
   "execution_count": 9,
   "metadata": {},
   "outputs": [
    {
     "name": "stdout",
     "output_type": "stream",
     "text": [
      "Calculando correlação\n"
     ]
    }
   ],
   "source": [
    "print('Calculando correlação')\n",
    "df_correlacao = df_train.corr()"
   ]
  },
  {
   "cell_type": "code",
   "execution_count": 10,
   "metadata": {},
   "outputs": [
    {
     "name": "stdout",
     "output_type": "stream",
     "text": [
      "336\n",
      "290\n"
     ]
    }
   ],
   "source": [
    "# print('Calculando correlação')\n",
    "# df_correlacao = df_train.corr()\n",
    "\n",
    "# Eliminamos variaveis que possuem muita correlacao entre si\n",
    "lista_colunas = df_correlacao.columns # mesma ordem para colunas e indices\n",
    "\n",
    "correlacao_alta = 0.99\n",
    "set_colunas_a_eliminar = set()\n",
    "\n",
    "print(len(df_train.columns))\n",
    "for index_linha,lista_valores in enumerate(df_correlacao.values):\n",
    "    for index_coluna,valor in enumerate(lista_valores):\n",
    "        if valor != 1 and abs(valor)>correlacao_alta:\n",
    "            coluna1 = lista_colunas[index_linha]\n",
    "            coluna2 = lista_colunas[index_coluna]\n",
    "            # se nenhuma das duas ja vai ser eliminadas eliminamos a primeira\n",
    "            if (coluna1 not in set_colunas_a_eliminar) and (coluna2 not in set_colunas_a_eliminar):\n",
    "                set_colunas_a_eliminar.add(coluna1)\n",
    "            \n",
    "df_train = df_train.drop(columns=set_colunas_a_eliminar)\n",
    "print(len(df_train.columns))\n",
    "colunas_features = list(set(colunas_features) - set_colunas_a_eliminar)"
   ]
  },
  {
   "cell_type": "code",
   "execution_count": 11,
   "metadata": {},
   "outputs": [
    {
     "name": "stdout",
     "output_type": "stream",
     "text": [
      "Criando dados sinteticos\n"
     ]
    },
    {
     "data": {
      "text/plain": [
       "0    73012\n",
       "1    47457\n",
       "dtype: int64"
      ]
     },
     "metadata": {},
     "output_type": "display_data"
    },
    {
     "name": "stdout",
     "output_type": "stream",
     "text": [
      "Treinando modelo para selecao de features\n",
      "Selecionando as features\n",
      "ind_var30 0.018481821722189158\n",
      "num_var45_ult1 0.012712656168596338\n",
      "saldo_var5 0.022041604449816544\n",
      "num_var5 0.0251242352636294\n",
      "num_var30_0 0.020719999538680048\n",
      "num_meses_var5_ult3 0.01472292020451865\n",
      "var3 0.016850072934972423\n",
      "num_var30 0.022694341610988048\n",
      "num_var45_hace3 0.030058099318454757\n",
      "num_var35 0.01793551184338426\n",
      "num_var22_ult1 0.015971695125536516\n",
      "num_var22_hace3 0.0212401671934154\n",
      "num_var45_ult3 0.027763278756605003\n",
      "saldo_var30 0.028583004481480368\n",
      "num_var39_0 0.015630770047550292\n",
      "var15 0.12148375504770792\n",
      "var38 0.01774308786188026\n",
      "saldo_medio_var5_hace3 0.020090806873025568\n",
      "num_var45_hace2 0.01767061648074133\n",
      "saldo_medio_var5_ult3 0.02323119269582511\n",
      "num_var22_hace2 0.024257107785418442\n",
      "num_var41_0 0.0155425167712026\n",
      "num_meses_var39_vig_ult3 0.017557795840135348\n",
      "num_var22_ult3 0.03014664678927664\n",
      "saldo_medio_var5_hace2 0.01869520929223353\n",
      "saldo_medio_var5_ult1 0.018526159150043853\n",
      "num_var42 0.023765929563833655\n",
      "num_var42_0 0.020925620904080885\n",
      "saldo_var42 0.023810409407465278\n",
      "var36 0.05366823157563671\n",
      "ind_var5 0.018702720692049434\n",
      "num_var5_0 0.01870581647396835\n",
      "num_med_var22_ult3 0.016852429166765694\n"
     ]
    }
   ],
   "source": [
    "# Selecinamos as features mais relevantes utilizando um modelo ensemble\n",
    "X = df_train[colunas_features].values\n",
    "y = df_train[label_column].values\n",
    "\n",
    "# Criamos dados sinteticos da classe minoritaria devido problema de desbalenciamento de classes\n",
    "print('Criando dados sinteticos')\n",
    "oversample = SMOTE(sampling_strategy=0.65)\n",
    "X, y = oversample.fit_resample(X, y)\n",
    "display(pd.Series(y).value_counts())\n",
    "\n",
    "print('Treinando modelo para selecao de features')\n",
    "modelo = RandomForestClassifier(n_jobs=-1,)\n",
    "modelo.fit(X, y)\n",
    "IMPORTANCIA_MINIMA_ACEITAVEL = 0.012\n",
    "\n",
    "print('Selecionando as features')\n",
    "colunas_relevantes = []\n",
    "for variavel, importancia in zip(colunas_features,modelo.feature_importances_):\n",
    "    if importancia>IMPORTANCIA_MINIMA_ACEITAVEL:\n",
    "        colunas_relevantes.append(variavel)\n",
    "        print(variavel, importancia)"
   ]
  },
  {
   "cell_type": "markdown",
   "metadata": {},
   "source": [
    "## PCA"
   ]
  },
  {
   "cell_type": "code",
   "execution_count": 12,
   "metadata": {},
   "outputs": [
    {
     "name": "stdout",
     "output_type": "stream",
     "text": [
      "features relevantes: 33\n"
     ]
    },
    {
     "data": {
      "text/plain": [
       "0    73012\n",
       "1     3008\n",
       "dtype: int64"
      ]
     },
     "metadata": {},
     "output_type": "display_data"
    },
    {
     "data": {
      "text/plain": [
       "0    73012\n",
       "1    47457\n",
       "dtype: int64"
      ]
     },
     "metadata": {},
     "output_type": "display_data"
    }
   ],
   "source": [
    "print(f'features relevantes: {len(colunas_relevantes)}')\n",
    "# Treinamos PCA para poder aplicar outra transformacao nos dados\n",
    "X = df_train[colunas_relevantes].values\n",
    "y = df_train[label_column].values\n",
    "display(pd.Series(y).value_counts())\n",
    "\n",
    "# oversample = SMOTE(sampling_strategy=0.80)\n",
    "X, y = oversample.fit_resample(X, y)\n",
    "display(pd.Series(y).value_counts())\n",
    "\n",
    "NUMERO_COMPONENTES = 15\n",
    "pca = PCA(n_components=NUMERO_COMPONENTES)\n",
    "pca = pca.fit(X)\n",
    "X = pca.transform(X)"
   ]
  },
  {
   "cell_type": "markdown",
   "metadata": {},
   "source": [
    "# Treinamento"
   ]
  },
  {
   "cell_type": "code",
   "execution_count": 13,
   "metadata": {},
   "outputs": [
    {
     "name": "stdout",
     "output_type": "stream",
     "text": [
      "Realizando split dos dados\n",
      "Estimate: 1.538\n",
      "Criando o modelo\n",
      "Treinando o modelo\n",
      "\n",
      "\n",
      "SCORE:\n",
      "ROC AUC train: 0.8541258692213242\n",
      "ROC AUC test: 0.8267354489222734\n",
      "Confusion matriz train:\n"
     ]
    },
    {
     "data": {
      "text/html": [
       "<div>\n",
       "<style scoped>\n",
       "    .dataframe tbody tr th:only-of-type {\n",
       "        vertical-align: middle;\n",
       "    }\n",
       "\n",
       "    .dataframe tbody tr th {\n",
       "        vertical-align: top;\n",
       "    }\n",
       "\n",
       "    .dataframe thead th {\n",
       "        text-align: right;\n",
       "    }\n",
       "</style>\n",
       "<table border=\"1\" class=\"dataframe\">\n",
       "  <thead>\n",
       "    <tr style=\"text-align: right;\">\n",
       "      <th>Pred</th>\n",
       "      <th>0</th>\n",
       "      <th>1</th>\n",
       "    </tr>\n",
       "    <tr>\n",
       "      <th>True</th>\n",
       "      <th></th>\n",
       "      <th></th>\n",
       "    </tr>\n",
       "  </thead>\n",
       "  <tbody>\n",
       "    <tr>\n",
       "      <th>0</th>\n",
       "      <td>48842</td>\n",
       "      <td>5917</td>\n",
       "    </tr>\n",
       "    <tr>\n",
       "      <th>1</th>\n",
       "      <td>6538</td>\n",
       "      <td>29054</td>\n",
       "    </tr>\n",
       "  </tbody>\n",
       "</table>\n",
       "</div>"
      ],
      "text/plain": [
       "Pred      0      1\n",
       "True              \n",
       "0     48842   5917\n",
       "1      6538  29054"
      ]
     },
     "metadata": {},
     "output_type": "display_data"
    },
    {
     "name": "stdout",
     "output_type": "stream",
     "text": [
      "Confusion matriz test:\n"
     ]
    },
    {
     "data": {
      "text/html": [
       "<div>\n",
       "<style scoped>\n",
       "    .dataframe tbody tr th:only-of-type {\n",
       "        vertical-align: middle;\n",
       "    }\n",
       "\n",
       "    .dataframe tbody tr th {\n",
       "        vertical-align: top;\n",
       "    }\n",
       "\n",
       "    .dataframe thead th {\n",
       "        text-align: right;\n",
       "    }\n",
       "</style>\n",
       "<table border=\"1\" class=\"dataframe\">\n",
       "  <thead>\n",
       "    <tr style=\"text-align: right;\">\n",
       "      <th>Pred</th>\n",
       "      <th>0</th>\n",
       "      <th>1</th>\n",
       "    </tr>\n",
       "    <tr>\n",
       "      <th>True</th>\n",
       "      <th></th>\n",
       "      <th></th>\n",
       "    </tr>\n",
       "  </thead>\n",
       "  <tbody>\n",
       "    <tr>\n",
       "      <th>0</th>\n",
       "      <td>16003</td>\n",
       "      <td>2250</td>\n",
       "    </tr>\n",
       "    <tr>\n",
       "      <th>1</th>\n",
       "      <td>2649</td>\n",
       "      <td>9216</td>\n",
       "    </tr>\n",
       "  </tbody>\n",
       "</table>\n",
       "</div>"
      ],
      "text/plain": [
       "Pred      0     1\n",
       "True             \n",
       "0     16003  2250\n",
       "1      2649  9216"
      ]
     },
     "metadata": {},
     "output_type": "display_data"
    }
   ],
   "source": [
    "# Split dos dados\n",
    "print('Realizando split dos dados')\n",
    "X_train, X_test, y_train, y_test = train_test_split(X, y,\n",
    "                                                    stratify=y, \n",
    "                                                    test_size=0.25)\n",
    "\n",
    "# estimate scale_pos_weight value\n",
    "scale_pos_weight = len(y[y==0]) / len(y[y==1])\n",
    "print('Estimate: %.3f' % scale_pos_weight)\n",
    "\n",
    "# Modelo\n",
    "print('Criando o modelo')\n",
    "clf = XGBClassifier(\n",
    "    n_jobs=-1,\n",
    "    use_label_encoder=False,\n",
    "    scale_pos_weight=scale_pos_weight,\n",
    "    objective= 'binary:logitraw',\n",
    "    max_depth=6,\n",
    "    gamma=0.1\n",
    ")\n",
    "\n",
    "# Treinamento\n",
    "print('Treinando o modelo')\n",
    "clf = clf.fit(X_train, y_train)\n",
    "\n",
    "print('\\n\\nSCORE:')\n",
    "score_treinamento = roc_auc_score(y_train, clf.predict(X_train))\n",
    "score_teste = roc_auc_score(y_test, clf.predict(X_test))\n",
    "\n",
    "print(f'ROC AUC train: {score_treinamento}')\n",
    "print(f'ROC AUC test: {score_teste}')\n",
    "\n",
    "# Confusion matriz\n",
    "print('Confusion matriz train:')\n",
    "display(pd.crosstab(y_train,clf.predict(X_train), rownames=['True'], colnames=['Pred']))\n",
    "print('Confusion matriz test:')\n",
    "display(pd.crosstab(y_test,clf.predict(X_test), rownames=['True'], colnames=['Pred']))"
   ]
  },
  {
   "cell_type": "markdown",
   "metadata": {},
   "source": [
    "# Validação\n",
    "Utilizando dados com target desconhecidos"
   ]
  },
  {
   "cell_type": "code",
   "execution_count": 14,
   "metadata": {},
   "outputs": [],
   "source": [
    "df_test_original = pd.read_csv('/'.join([PATH, TEST_FILE]))\n",
    "df_test = df_test_original.copy()"
   ]
  },
  {
   "cell_type": "code",
   "execution_count": 15,
   "metadata": {},
   "outputs": [
    {
     "name": "stdout",
     "output_type": "stream",
     "text": [
      "Transforma colunas binarias\n"
     ]
    },
    {
     "data": {
      "application/vnd.jupyter.widget-view+json": {
       "model_id": "8103c66fc7d0431b9882d07c195cd271",
       "version_major": 2,
       "version_minor": 0
      },
      "text/plain": [
       "HBox(children=(FloatProgress(value=0.0, max=105.0), HTML(value='')))"
      ]
     },
     "metadata": {},
     "output_type": "display_data"
    },
    {
     "name": "stdout",
     "output_type": "stream",
     "text": [
      "\n",
      "Normaliza features quantitativas\n",
      "Elimina Features irrelevantes\n",
      "Elimina Features com baixo score no modelo ensemble\n",
      "FIM\n"
     ]
    }
   ],
   "source": [
    "# Binarizacao\n",
    "print('Transforma colunas binarias')\n",
    "df_test = transforma_colunas_binarias(df_test)\n",
    "\n",
    "# Normalizacao\n",
    "print('Normaliza features quantitativas')\n",
    "df_test.loc[:,COLUNAS_QUANTITATIVAS] = scaler.fit_transform(df_test.loc[:,COLUNAS_QUANTITATIVAS])\n",
    "\n",
    "# Eliminacao de features irrelevantes\n",
    "print('Elimina Features irrelevantes')\n",
    "df_test = df_test[colunas_features]\n",
    "\n",
    "# Eliminacao de features com baixo score no rf\n",
    "print('Elimina Features com baixo score no modelo ensemble')\n",
    "df_test = df_test[colunas_relevantes]\n",
    "print('FIM')"
   ]
  },
  {
   "cell_type": "code",
   "execution_count": 16,
   "metadata": {},
   "outputs": [],
   "source": [
    "y_pred_test = clf.predict(pca.transform(df_test.values))\n",
    "df_test_original['TARGET'] = y_pred_test"
   ]
  },
  {
   "cell_type": "code",
   "execution_count": 17,
   "metadata": {},
   "outputs": [],
   "source": [
    "df_test_original[['ID', 'TARGET']].set_index('ID', drop=True).to_csv('resposta__.csv')"
   ]
  },
  {
   "cell_type": "code",
   "execution_count": 18,
   "metadata": {},
   "outputs": [
    {
     "data": {
      "image/png": "[encoded data removed]",
      "text/plain": [
       "<Figure size 432x288 with 1 Axes>"
      ]
     },
     "metadata": {
      "needs_background": "light"
     },
     "output_type": "display_data"
    }
   ],
   "source": [
    "df_test_original.TARGET.value_counts().plot(kind='bar');"
   ]
  }
 ],
 "metadata": {
  "kernelspec": {
   "display_name": "Python 3",
   "language": "python",
   "name": "python3"
  },
  "language_info": {
   "codemirror_mode": {
    "name": "ipython",
    "version": 3
   },
   "file_extension": ".py",
   "mimetype": "text/x-python",
   "name": "python",
   "nbconvert_exporter": "python",
   "pygments_lexer": "ipython3",
   "version": "3.6.10"
  }
 },
 "nbformat": 4,
 "nbformat_minor": 4
}
